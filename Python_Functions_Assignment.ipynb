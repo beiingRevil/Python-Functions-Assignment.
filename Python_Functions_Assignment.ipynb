{
  "nbformat": 4,
  "nbformat_minor": 0,
  "metadata": {
    "colab": {
      "provenance": []
    },
    "kernelspec": {
      "name": "python3",
      "display_name": "Python 3"
    },
    "language_info": {
      "name": "python"
    }
  },
  "cells": [
    {
      "cell_type": "markdown",
      "source": [
        "Q1: What is the difference between a function and a method in Python?\n",
        "\n",
        "Ans:\n",
        "Function: A block of reusable code that performs a specific task. Functions are defined using the def keyword and can exist independently of classes.\n",
        "\n",
        "Example:\n",
        "\n",
        "def greet():\n",
        "\n",
        "    return \"Hello, World!\"\n",
        "    print(greet())\n",
        "\n",
        "Method: A function that is associated with an object or class. It is called using the object or class instance. Methods are implicitly passed the instance (self) or class (cls) they belong to.\n",
        "\n",
        "Example:\n",
        "\n",
        "class Person:\n",
        "\n",
        "    def greet(self):\n",
        "        return \"Hello from a method!\"\n",
        "        p = Person()\n",
        "        print(p.greet())\n",
        "\n"
      ],
      "metadata": {
        "id": "KWRvO8WKRe2R"
      }
    },
    {
      "cell_type": "markdown",
      "source": [
        "Q2: Explain the concept of function arguments and parameters in Python.\n",
        "\n",
        "Ans:Parameters: Variables defined in the function definition to accept inputs.\n",
        "\n",
        "Arguments: Actual values passed to the function when it is called.\n",
        "\n",
        "\n",
        "Example:\n",
        "\n",
        "\n",
        "    def add(a, b):  # a and b are parameters\n",
        "    return a + b\n",
        "    print(add(5, 3))  # 5 and 3 are arguments\n"
      ],
      "metadata": {
        "id": "tel0moxASVok"
      }
    },
    {
      "cell_type": "markdown",
      "source": [
        "Q3: What are the different ways to define and call a function in Python?\n",
        "\n",
        "Ans:\n",
        "\n",
        "1. Positional Arguments:\n",
        "\n",
        "        def greet(name):\n",
        "        return f\"Hello, {name}!\"\n",
        "        print(greet(\"Alice\"))\n",
        "\n",
        "\n",
        "2. Keyword Arguments:\n",
        "\n",
        "        def greet(name, msg):\n",
        "        return f\"{msg}, {name}!\"\n",
        "        print(greet(name=\"Bob\", msg=\"Hi\"))\n",
        "\n",
        "\n",
        "3. Default Arguments:\n",
        "\n",
        "        def greet(name, msg=\"Hello\"):\n",
        "       return f\"{msg}, {name}!\"\n",
        "       print(greet(\"Charlie\"))\n",
        "\n",
        "\n",
        "4. Variable-Length Arguments:\n",
        "\n",
        "        def sum_numbers(*args):\n",
        "        return sum(args)\n",
        "        print(sum_numbers(1, 2, 3, 4))\n"
      ],
      "metadata": {
        "id": "Kco48XtNSvv2"
      }
    },
    {
      "cell_type": "markdown",
      "source": [
        "Q4: What is the purpose of the return statement in a Python function?\n",
        "\n",
        "Ans: The return statement is used to send the function's result back to the caller. It ends the function execution and optionally passes back a value.\n",
        "\n",
        "Example:\n",
        "\n",
        "    def square(x):\n",
        "    return x ** 2\n",
        "    print(square(5))  # Output: 25"
      ],
      "metadata": {
        "id": "Znrd3W9DVKG0"
      }
    },
    {
      "cell_type": "markdown",
      "source": [
        "Q5: What are iterators in Python, and how do they differ from iterables?\n",
        "\n",
        "Ans:Iterables: Objects that can be looped over, such as lists, tuples, and strings.\n",
        "\n",
        "Iterators: Objects created from iterables using the iter() function, which implement the _next_() method to fetch elements one at a time.\n",
        "\n",
        "\n",
        "Example:\n",
        "\n",
        "    my_list = [1, 2, 3]  # Iterable\n",
        "    iterator = iter(my_list)  # Iterator\n",
        "    print(next(iterator))  # Output: 1\n"
      ],
      "metadata": {
        "id": "RqiqoOWWVgmy"
      }
    },
    {
      "cell_type": "markdown",
      "source": [
        "Q6: Explain the concept of generators in Python and how they are defined.\n",
        "\n",
        "Ans: Generators are special iterators defined using a function and the yield keyword. They generate values lazily, producing items one at a time as they are requested.\n",
        "Example:\n",
        "\n",
        "    def count_up_to(n):\n",
        "    count = 1\n",
        "    while count <= n:\n",
        "        yield count\n",
        "        count += 1\n",
        "    gen = count_up_to(3)\n",
        "    print(next(gen))  # Output: 1\n"
      ],
      "metadata": {
        "id": "pVU39U0uYI92"
      }
    },
    {
      "cell_type": "markdown",
      "source": [
        "Q7: What are the advantages of using generators over regular functions?\n",
        "\n",
        "Ans:\n",
        "\n",
        "1. Memory Efficiency: They produce values on demand, avoiding storing large datasets in memory.\n",
        "\n",
        "\n",
        "2. Improved Performance: Useful for large datasets as they don’t compute all values upfront.\n",
        "\n",
        "\n",
        "3. Pipeline Compatibility: Ideal for processing streams of data.\n"
      ],
      "metadata": {
        "id": "z9ScKr1hYf0b"
      }
    },
    {
      "cell_type": "markdown",
      "source": [
        "Q8: What is a lambda function in Python, and when is it typically used?\n",
        "\n",
        "Ans:\n",
        "A lambda function is an anonymous, single-expression function defined using the lambda keyword.\n",
        "Usage: Used in scenarios requiring a short-term function, like with map(), filter(), and sorted().\n",
        "\n",
        "Example:\n",
        "\n",
        "    double = lambda x: x * 2\n",
        "    print(double(4))  # Output: 8\n"
      ],
      "metadata": {
        "id": "FnWbryePYqEB"
      }
    },
    {
      "cell_type": "markdown",
      "source": [
        "Q9: Explain the purpose and usage of the map() function in Python.\n",
        "\n",
        "Ans: The map() function applies a given function to all items in an iterable and returns a map object.\n",
        "\n",
        "Example:\n",
        "\n",
        "    numbers = [1, 2, 3]\n",
        "    squares = map(lambda x: x ** 2, numbers)\n",
        "    print(list(squares))  # Output: [1, 4, 9]\n",
        "\n"
      ],
      "metadata": {
        "id": "xcyY0wSiY1Cr"
      }
    },
    {
      "cell_type": "markdown",
      "source": [
        "Q10: What is the difference between map(), reduce(), and filter() functions in Python?\n",
        "Ans:\n",
        "\n",
        "1. map(): Applies a function to all items in an iterable.\n",
        "\n",
        "Example:\n",
        "\n",
        "    numbers = [1, 2, 3]\n",
        "    result = map(lambda x: x * 2, numbers)  # Output: [2, 4, 6]\n",
        "\n",
        "\n",
        "2. filter(): Filters items based on a condition.\n",
        "\n",
        "Example:\n",
        "\n",
        "    numbers = [1, 2, 3, 4]\n",
        "    result = filter(lambda x: x % 2 == 0, numbers)  # Output: [2, 4]\n",
        "\n",
        "\n",
        "3. reduce(): Reduces an iterable to a single value using a function (from functools).\n",
        "Example:\n",
        "\n",
        "        from functools import reduce numbers = [1, 2, 3]\n",
        "        result = reduce(lambda x, y: x + y, numbers)  # Output: 6\n",
        "\n"
      ],
      "metadata": {
        "id": "o4sBQ9RsZBEk"
      }
    },
    {
      "cell_type": "markdown",
      "source": [
        "Q11: Using pen and paper, write the internal mechanism for the sum operation using the reduce() function on this given list: [47, 11, 42, 13].\n",
        "\n",
        "Ans:\n",
        "The reduce() function is part of the functools module. It applies a specified function cumulatively to the items of an iterable, reducing the iterable to a single value. Here's the internal mechanism for calculating the sum of the list [47, 11, 42, 13] using reduce():\n",
        "\n",
        "1. Step-by-Step Reduction Process:\n",
        "\n",
        "Initial list: [47, 11, 42, 13]\n",
        "\n",
        "reduce() starts with the first two elements: 47 + 11 = 58\n",
        "\n",
        "Next, it takes the result (58) and the third element: 58 + 42 = 100\n",
        "\n",
        "Finally, it adds the result (100) to the fourth element: 100 + 13 = 113\n",
        "\n",
        "\n",
        "\n",
        "2. Python Code Representation:\n",
        "\n",
        "        from functools import reduce numbers = [47, 11, 42, 13]\n",
        "        result = reduce(lambda x, y: x + y, numbers)\n",
        "        print(result)  # Output: 113\n",
        "\n",
        "\n",
        "3. Internal Mechanism Illustration:\n",
        "You can manually write this in a step-by-step manner on paper as:\n",
        "\n",
        "        reduce(lambda x, y: x + y, [47, 11, 42, 13])\n",
        "\n",
        "       First call: lambda(47, 11) -> 58\n",
        "\n",
        "        Second call: lambda(58, 42) -> 100\n",
        "\n",
        "       Third call: lambda(100, 13) -> 113"
      ],
      "metadata": {
        "id": "4kEwEZZ8a481"
      }
    },
    {
      "cell_type": "code",
      "source": [
        "#Q1: Write a Python function that takes a list of numbers as input and returns the sum of all even numbers in the list.\n",
        "def sum_of_evens(numbers):\n",
        "  \"\"\"\n",
        "  Calculates the sum of all even numbers in a list.\n",
        "\n",
        "  Args:\n",
        "    numbers: A list of numbers.\n",
        "\n",
        "  Returns:\n",
        "    The sum of all even numbers in the list.\n",
        "  \"\"\"\n",
        "  total = 0\n",
        "  for number in numbers:\n",
        "    if number % 2 == 0:\n",
        "      total += number\n",
        "  return total\n",
        "\n",
        "# Example usage\n",
        "numbers = [1, 2, 3, 4, 5, 6]\n",
        "result = sum_of_evens(numbers)\n",
        "print(f\"The sum of even numbers in the list is: {result}\")  # Output: 12"
      ],
      "metadata": {
        "id": "eb55GXd84wN4",
        "colab": {
          "base_uri": "https://localhost:8080/"
        },
        "outputId": "0d4c6982-1819-4d0d-db17-e353a6ec5b27"
      },
      "execution_count": 4,
      "outputs": [
        {
          "output_type": "stream",
          "name": "stdout",
          "text": [
            "The sum of even numbers in the list is: 12\n"
          ]
        }
      ]
    },
    {
      "cell_type": "code",
      "source": [
        "#Q2: Create a Python function that accepts a string and returns the reverse of that string.\n",
        "\n",
        "def reverse_string(s):\n",
        "    return s[::-1]\n",
        "\n",
        "# Example Usage:\n",
        "string = \"Python\"\n",
        "print(reverse_string(string))  # Output: \"nohtyP\"\n"
      ],
      "metadata": {
        "id": "zefUe34r4weL",
        "colab": {
          "base_uri": "https://localhost:8080/"
        },
        "outputId": "9262f2f8-ff45-47d3-b995-ed1d61d82d98"
      },
      "execution_count": 6,
      "outputs": [
        {
          "output_type": "stream",
          "name": "stdout",
          "text": [
            "nohtyP\n"
          ]
        }
      ]
    },
    {
      "cell_type": "code",
      "source": [
        "#Q3: Implement a Python function that takes a list of integers and returns a new list containing the squares of each number.\n",
        "\n",
        "def square_numbers(numbers):\n",
        "    return [num ** 2 for num in numbers]\n",
        "\n",
        "# Example Usage:\n",
        "numbers = [1, 2, 3, 4]\n",
        "print(square_numbers(numbers))  # Output: [1, 4, 9, 16]\n"
      ],
      "metadata": {
        "id": "Dh3Slbsb4wj5",
        "colab": {
          "base_uri": "https://localhost:8080/"
        },
        "outputId": "29efa94e-a9fe-482d-faf9-796ad55f4677"
      },
      "execution_count": 7,
      "outputs": [
        {
          "output_type": "stream",
          "name": "stdout",
          "text": [
            "[1, 4, 9, 16]\n"
          ]
        }
      ]
    },
    {
      "cell_type": "code",
      "source": [
        "#Q4: Write a Python function that checks if a given number is prime or not from 1 to 200.\n",
        "\n",
        "def is_prime(n):\n",
        "    if n < 2:\n",
        "        return False\n",
        "    for i in range(2, int(n ** 0.5) + 1):\n",
        "        if n % i == 0:\n",
        "            return False\n",
        "    return True\n",
        "\n",
        "# Check primes from 1 to 200:\n",
        "primes = [num for num in range(1, 201) if is_prime(num)]\n",
        "print(primes)\n"
      ],
      "metadata": {
        "colab": {
          "base_uri": "https://localhost:8080/"
        },
        "id": "trXPeT_ZX1g8",
        "outputId": "0ce366a6-699c-4a93-ce48-e49b95f8b641"
      },
      "execution_count": 8,
      "outputs": [
        {
          "output_type": "stream",
          "name": "stdout",
          "text": [
            "[2, 3, 5, 7, 11, 13, 17, 19, 23, 29, 31, 37, 41, 43, 47, 53, 59, 61, 67, 71, 73, 79, 83, 89, 97, 101, 103, 107, 109, 113, 127, 131, 137, 139, 149, 151, 157, 163, 167, 173, 179, 181, 191, 193, 197, 199]\n"
          ]
        }
      ]
    },
    {
      "cell_type": "code",
      "source": [
        "#Q5: Create an iterator class in Python that generates the Fibonacci sequence up to a specified number of terms.\n",
        "class FibonacciIterator:\n",
        "    def __init__(self, n_terms):\n",
        "        self.n_terms = n_terms\n",
        "        self.count = 0\n",
        "        self.a, self.b = 0, 1\n",
        "\n",
        "    def __iter__(self):\n",
        "        return self\n",
        "\n",
        "    def __next__(self):\n",
        "        if self.count >= self.n_terms:\n",
        "            raise StopIteration\n",
        "        self.count += 1\n",
        "        value = self.a\n",
        "        self.a, self.b = self.b, self.a + self.b\n",
        "        return value\n",
        "\n",
        "# Example Usage:\n",
        "fib = FibonacciIterator(10)\n",
        "for num in fib:\n",
        "    print(num, end=\" \")  # Output: 0 1 1 2 3 5 8 13 21 34\n",
        "\n",
        "\n"
      ],
      "metadata": {
        "colab": {
          "base_uri": "https://localhost:8080/"
        },
        "id": "B1Pro4teX1R2",
        "outputId": "1c29905b-ce89-47e1-ac10-66196a2450a7"
      },
      "execution_count": 12,
      "outputs": [
        {
          "output_type": "stream",
          "name": "stdout",
          "text": [
            "0 1 1 2 3 5 8 13 21 34 "
          ]
        }
      ]
    },
    {
      "cell_type": "code",
      "source": [
        "#Q6: Write a generator function in Python that yields the powers of 2 up to a given exponent.\n",
        "\n",
        "def powers_of_two(max_exponent):\n",
        "    for i in range(max_exponent + 1):\n",
        "        yield 2 ** i\n",
        "\n",
        "# Example Usage:\n",
        "for power in powers_of_two(5):\n",
        "    print(power, end=\" \")  # Output: 1 2 4 8 16 32\n"
      ],
      "metadata": {
        "colab": {
          "base_uri": "https://localhost:8080/"
        },
        "id": "fvfYFJQKX1OP",
        "outputId": "edbf7163-ad03-4602-e20d-bfc9be2c13cc"
      },
      "execution_count": 13,
      "outputs": [
        {
          "output_type": "stream",
          "name": "stdout",
          "text": [
            "1 2 4 8 16 32 "
          ]
        }
      ]
    },
    {
      "cell_type": "code",
      "source": [
        "#Q7: Implement a generator function that reads a file line by line and yields each line as a string.\n",
        "\n",
        "def read_file_lines(file_path):\n",
        "    with open(file_path, 'r') as file:\n",
        "        for line in file:\n",
        "            yield line.strip()\n",
        "\n",
        "# Example Usage:\n",
        "# for line in read_file_lines(\"check\"):\n",
        "#     print(line)\n"
      ],
      "metadata": {
        "id": "3hybJqrpYsgy"
      },
      "execution_count": 22,
      "outputs": []
    },
    {
      "cell_type": "code",
      "source": [
        "#Q8: Use a lambda function in Python to sort a list of tuples based on the second element of each tuple.\n",
        "\n",
        "tuples = [(1, 3), (2, 1), (4, 2)]\n",
        "sorted_tuples = sorted(tuples, key=lambda x: x[1])\n",
        "print(sorted_tuples)  # Output: [(2, 1), (4, 2), (1, 3)]\n"
      ],
      "metadata": {
        "colab": {
          "base_uri": "https://localhost:8080/"
        },
        "id": "eLGp4wjJYsa1",
        "outputId": "603fa7d6-5256-452a-e543-a6953f0b0347"
      },
      "execution_count": 23,
      "outputs": [
        {
          "output_type": "stream",
          "name": "stdout",
          "text": [
            "[(2, 1), (4, 2), (1, 3)]\n"
          ]
        }
      ]
    },
    {
      "cell_type": "code",
      "source": [
        "#Q9: Write a Python program that uses map() to convert a list of temperatures from Celsius to Fahrenheit.\n",
        "\n",
        "def celsius_to_fahrenheit(celsius):\n",
        "    return (celsius * 9/5) + 32\n",
        "\n",
        "temperatures_celsius = [0, 20, 30, 40]\n",
        "temperatures_fahrenheit = list(map(celsius_to_fahrenheit, temperatures_celsius))\n",
        "print(temperatures_fahrenheit)  # Output: [32.0, 68.0, 86.0, 104.0]\n",
        "\n"
      ],
      "metadata": {
        "colab": {
          "base_uri": "https://localhost:8080/"
        },
        "id": "wKABq8sLYsXb",
        "outputId": "41ee019c-d4a7-4c34-c2cd-e731a9f979ed"
      },
      "execution_count": 24,
      "outputs": [
        {
          "output_type": "stream",
          "name": "stdout",
          "text": [
            "[32.0, 68.0, 86.0, 104.0]\n"
          ]
        }
      ]
    },
    {
      "cell_type": "code",
      "source": [
        "#Q10: Create a Python program that uses filter() to remove all the vowels from a given string.\n",
        "\n",
        "def remove_vowels(s):\n",
        "    return ''.join(filter(lambda x: x.lower() not in 'aeiou', s))\n",
        "\n",
        "# Example Usage:\n",
        "text = \"Hello, World!\"\n",
        "print(remove_vowels(text))  # Output: \"Hll, Wrld!\"\n"
      ],
      "metadata": {
        "colab": {
          "base_uri": "https://localhost:8080/"
        },
        "id": "eNuEZcbxYsKn",
        "outputId": "1b9a577a-a773-4a66-a4e1-1b3b4ce8a7e5"
      },
      "execution_count": 25,
      "outputs": [
        {
          "output_type": "stream",
          "name": "stdout",
          "text": [
            "Hll, Wrld!\n"
          ]
        }
      ]
    },
    {
      "cell_type": "code",
      "source": [
        "#Q11: Write a Python program, which returns a list with 2-tuples. Each tuple consists of the order number and the product of the price per item and the quantity. The product should be increased by 10€ if the value of the order is smaller than 100€. Use lambda and map.\n",
        "\n",
        "\n",
        "orders = [\n",
        "    [34587, 4, 40.95],\n",
        "    [98762, 5, 56.80],\n",
        "    [77226, 3, 32.95],\n",
        "    [88112, 3, 24.99]\n",
        "]\n",
        "\n",
        "result = list(map(lambda x: (x[0], x[1] * x[2] + 10) if x[1] * x[2] < 100 else (x[0], x[1] * x[2]), orders))\n",
        "print(result)\n",
        "# Output: [(34587, 163.8), (98762, 284.0), (77226, 108.85), (88112, 84.97)]\n"
      ],
      "metadata": {
        "colab": {
          "base_uri": "https://localhost:8080/"
        },
        "id": "s2nSO-lzX1KF",
        "outputId": "a369d300-98fb-4398-e241-4b85d71d6b7f"
      },
      "execution_count": 26,
      "outputs": [
        {
          "output_type": "stream",
          "name": "stdout",
          "text": [
            "[(34587, 163.8), (98762, 284.0), (77226, 108.85000000000001), (88112, 84.97)]\n"
          ]
        }
      ]
    },
    {
      "cell_type": "code",
      "source": [],
      "metadata": {
        "id": "qzHnndEiX08U"
      },
      "execution_count": null,
      "outputs": []
    }
  ]
}